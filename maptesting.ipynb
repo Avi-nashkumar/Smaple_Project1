{
  "nbformat": 4,
  "nbformat_minor": 0,
  "metadata": {
    "colab": {
      "name": "Untitled11.ipynb",
      "provenance": [],
      "authorship_tag": "ABX9TyOMNESNItpO+pyiUCDRbPPp",
      "include_colab_link": true
    },
    "kernelspec": {
      "name": "python3",
      "display_name": "Python 3"
    }
  },
  "cells": [
    {
      "cell_type": "markdown",
      "metadata": {
        "id": "view-in-github",
        "colab_type": "text"
      },
      "source": [
        "<a href=\"https://colab.research.google.com/github/Avi-nashkumar/Smaple_Project1/blob/master/maptesting.ipynb\" target=\"_parent\"><img src=\"https://colab.research.google.com/assets/colab-badge.svg\" alt=\"Open In Colab\"/></a>"
      ]
    },
    {
      "cell_type": "code",
      "metadata": {
        "id": "OicUQXzt37OU",
        "outputId": "fc97b0a3-960e-433e-caa8-695c70c28b9c",
        "colab": {
          "base_uri": "https://localhost:8080/"
        }
      },
      "source": [
        "!pip install gmplot"
      ],
      "execution_count": 1,
      "outputs": [
        {
          "output_type": "stream",
          "text": [
            "Collecting gmplot\n",
            "\u001b[?25l  Downloading https://files.pythonhosted.org/packages/2f/2f/45399c0a3b75d22a6ece1a1732a1670836cf284de7c1f91379a8d9b666a1/gmplot-1.4.1-py3-none-any.whl (164kB)\n",
            "\r\u001b[K     |██                              | 10kB 19.0MB/s eta 0:00:01\r\u001b[K     |████                            | 20kB 1.7MB/s eta 0:00:01\r\u001b[K     |██████                          | 30kB 2.2MB/s eta 0:00:01\r\u001b[K     |████████                        | 40kB 2.5MB/s eta 0:00:01\r\u001b[K     |██████████                      | 51kB 1.9MB/s eta 0:00:01\r\u001b[K     |████████████                    | 61kB 2.2MB/s eta 0:00:01\r\u001b[K     |██████████████                  | 71kB 2.5MB/s eta 0:00:01\r\u001b[K     |████████████████                | 81kB 2.7MB/s eta 0:00:01\r\u001b[K     |██████████████████              | 92kB 2.8MB/s eta 0:00:01\r\u001b[K     |████████████████████            | 102kB 2.7MB/s eta 0:00:01\r\u001b[K     |█████████████████████▉          | 112kB 2.7MB/s eta 0:00:01\r\u001b[K     |███████████████████████▉        | 122kB 2.7MB/s eta 0:00:01\r\u001b[K     |█████████████████████████▉      | 133kB 2.7MB/s eta 0:00:01\r\u001b[K     |███████████████████████████▉    | 143kB 2.7MB/s eta 0:00:01\r\u001b[K     |█████████████████████████████▉  | 153kB 2.7MB/s eta 0:00:01\r\u001b[K     |███████████████████████████████▉| 163kB 2.7MB/s eta 0:00:01\r\u001b[K     |████████████████████████████████| 174kB 2.7MB/s \n",
            "\u001b[?25hRequirement already satisfied: requests in /usr/local/lib/python3.6/dist-packages (from gmplot) (2.23.0)\n",
            "Requirement already satisfied: certifi>=2017.4.17 in /usr/local/lib/python3.6/dist-packages (from requests->gmplot) (2020.6.20)\n",
            "Requirement already satisfied: chardet<4,>=3.0.2 in /usr/local/lib/python3.6/dist-packages (from requests->gmplot) (3.0.4)\n",
            "Requirement already satisfied: idna<3,>=2.5 in /usr/local/lib/python3.6/dist-packages (from requests->gmplot) (2.10)\n",
            "Requirement already satisfied: urllib3!=1.25.0,!=1.25.1,<1.26,>=1.21.1 in /usr/local/lib/python3.6/dist-packages (from requests->gmplot) (1.24.3)\n",
            "Installing collected packages: gmplot\n",
            "Successfully installed gmplot-1.4.1\n"
          ],
          "name": "stdout"
        }
      ]
    },
    {
      "cell_type": "code",
      "metadata": {
        "id": "nomRjN274NWK"
      },
      "source": [
        "import gmplot"
      ],
      "execution_count": 2,
      "outputs": []
    },
    {
      "cell_type": "code",
      "metadata": {
        "id": "HBKJYi-O4x_x"
      },
      "source": [
        "map= gmplot.GoogleMapPlotter(38.00,-97.00,15)\n",
        "lat=[38.012,38.203,38.312]\n",
        "long=[-97.12,-97.21,-97.32]\n",
        "map.scatter(lat,long,'red',size=50,marker=False)\n",
        "map.plot(lat,long,'blue',edge_width=2.5)\n",
        "map.draw(\"map2.html\")"
      ],
      "execution_count": 6,
      "outputs": []
    },
    {
      "cell_type": "code",
      "metadata": {
        "id": "cqgJ6MhK4ZjY"
      },
      "source": [
        ""
      ],
      "execution_count": null,
      "outputs": []
    }
  ]
}