{
  "nbformat": 4,
  "nbformat_minor": 0,
  "metadata": {
    "colab": {
      "name": "ANN2.ipynb",
      "provenance": [],
      "mount_file_id": "1EbcMrQLZzMPjGPDQElsw0spqP6bxTp7C",
      "authorship_tag": "ABX9TyPP+qnWog8Uqza+ZKpueA3/",
      "include_colab_link": true
    },
    "kernelspec": {
      "name": "python3",
      "display_name": "Python 3"
    }
  },
  "cells": [
    {
      "cell_type": "markdown",
      "metadata": {
        "id": "view-in-github",
        "colab_type": "text"
      },
      "source": [
        "<a href=\"https://colab.research.google.com/github/Avi-nashkumar/Smaple_Project1/blob/master/ANN2.ipynb\" target=\"_parent\"><img src=\"https://colab.research.google.com/assets/colab-badge.svg\" alt=\"Open In Colab\"/></a>"
      ]
    },
    {
      "cell_type": "code",
      "metadata": {
        "id": "J5XAdeHAuJPP"
      },
      "source": [
        ""
      ],
      "execution_count": 2,
      "outputs": []
    },
    {
      "cell_type": "markdown",
      "metadata": {
        "id": "_u9-Xr-UvL9h"
      },
      "source": [
        "KERAS **TUNER**"
      ]
    },
    {
      "cell_type": "code",
      "metadata": {
        "id": "c63lKbH3vnr1"
      },
      "source": [
        ""
      ],
      "execution_count": 6,
      "outputs": []
    },
    {
      "cell_type": "code",
      "metadata": {
        "id": "uMw5hsNQvKlO"
      },
      "source": [
        "import pandas as pd\r\n",
        "import numpy as np\r\n",
        "import matplotlib.pyplot as plt\r\n",
        "from sklearn.preprocessing import LabelEncoder\r\n",
        "from sklearn.preprocessing import MinMaxScaler , StandardScaler\r\n",
        "from sklearn.model_selection import train_test_split\r\n",
        "from sklearn.metrics import confusion_matrix\r\n",
        "from sklearn.metrics import accuracy_score\r\n"
      ],
      "execution_count": 5,
      "outputs": []
    },
    {
      "cell_type": "code",
      "metadata": {
        "id": "0qzo8woZv0g0"
      },
      "source": [
        "from tensorflow import keras\r\n",
        "from tensorflow.keras import layers\r\n",
        "from kerastuner.tuners import RandomSearch"
      ],
      "execution_count": 7,
      "outputs": []
    },
    {
      "cell_type": "code",
      "metadata": {
        "colab": {
          "base_uri": "https://localhost:8080/",
          "height": 343
        },
        "id": "5V6umgAUuS9f",
        "outputId": "ea7859cd-cd64-4f9f-ea3e-c6c3bff6fb36"
      },
      "source": [
        "df= pd.read_csv(\"Real_Combine.csv\")\r\n",
        "df.head(10)"
      ],
      "execution_count": 4,
      "outputs": [
        {
          "output_type": "execute_result",
          "data": {
            "text/html": [
              "<div>\n",
              "<style scoped>\n",
              "    .dataframe tbody tr th:only-of-type {\n",
              "        vertical-align: middle;\n",
              "    }\n",
              "\n",
              "    .dataframe tbody tr th {\n",
              "        vertical-align: top;\n",
              "    }\n",
              "\n",
              "    .dataframe thead th {\n",
              "        text-align: right;\n",
              "    }\n",
              "</style>\n",
              "<table border=\"1\" class=\"dataframe\">\n",
              "  <thead>\n",
              "    <tr style=\"text-align: right;\">\n",
              "      <th></th>\n",
              "      <th>T</th>\n",
              "      <th>TM</th>\n",
              "      <th>Tm</th>\n",
              "      <th>SLP</th>\n",
              "      <th>H</th>\n",
              "      <th>VV</th>\n",
              "      <th>V</th>\n",
              "      <th>VM</th>\n",
              "      <th>PM 2.5</th>\n",
              "    </tr>\n",
              "  </thead>\n",
              "  <tbody>\n",
              "    <tr>\n",
              "      <th>0</th>\n",
              "      <td>7.4</td>\n",
              "      <td>9.8</td>\n",
              "      <td>4.8</td>\n",
              "      <td>1017.6</td>\n",
              "      <td>93.0</td>\n",
              "      <td>0.5</td>\n",
              "      <td>4.3</td>\n",
              "      <td>9.4</td>\n",
              "      <td>219.720833</td>\n",
              "    </tr>\n",
              "    <tr>\n",
              "      <th>1</th>\n",
              "      <td>7.8</td>\n",
              "      <td>12.7</td>\n",
              "      <td>4.4</td>\n",
              "      <td>1018.5</td>\n",
              "      <td>87.0</td>\n",
              "      <td>0.6</td>\n",
              "      <td>4.4</td>\n",
              "      <td>11.1</td>\n",
              "      <td>182.187500</td>\n",
              "    </tr>\n",
              "    <tr>\n",
              "      <th>2</th>\n",
              "      <td>6.7</td>\n",
              "      <td>13.4</td>\n",
              "      <td>2.4</td>\n",
              "      <td>1019.4</td>\n",
              "      <td>82.0</td>\n",
              "      <td>0.6</td>\n",
              "      <td>4.8</td>\n",
              "      <td>11.1</td>\n",
              "      <td>154.037500</td>\n",
              "    </tr>\n",
              "    <tr>\n",
              "      <th>3</th>\n",
              "      <td>8.6</td>\n",
              "      <td>15.5</td>\n",
              "      <td>3.3</td>\n",
              "      <td>1018.7</td>\n",
              "      <td>72.0</td>\n",
              "      <td>0.8</td>\n",
              "      <td>8.1</td>\n",
              "      <td>20.6</td>\n",
              "      <td>223.208333</td>\n",
              "    </tr>\n",
              "    <tr>\n",
              "      <th>4</th>\n",
              "      <td>12.4</td>\n",
              "      <td>20.9</td>\n",
              "      <td>4.4</td>\n",
              "      <td>1017.3</td>\n",
              "      <td>61.0</td>\n",
              "      <td>1.3</td>\n",
              "      <td>8.7</td>\n",
              "      <td>22.2</td>\n",
              "      <td>200.645833</td>\n",
              "    </tr>\n",
              "    <tr>\n",
              "      <th>5</th>\n",
              "      <td>16.0</td>\n",
              "      <td>25.2</td>\n",
              "      <td>10.0</td>\n",
              "      <td>1013.2</td>\n",
              "      <td>79.0</td>\n",
              "      <td>0.6</td>\n",
              "      <td>4.8</td>\n",
              "      <td>11.1</td>\n",
              "      <td>285.225000</td>\n",
              "    </tr>\n",
              "    <tr>\n",
              "      <th>6</th>\n",
              "      <td>13.4</td>\n",
              "      <td>21.0</td>\n",
              "      <td>9.2</td>\n",
              "      <td>1015.1</td>\n",
              "      <td>87.0</td>\n",
              "      <td>0.5</td>\n",
              "      <td>1.5</td>\n",
              "      <td>7.6</td>\n",
              "      <td>236.825000</td>\n",
              "    </tr>\n",
              "    <tr>\n",
              "      <th>7</th>\n",
              "      <td>14.3</td>\n",
              "      <td>22.6</td>\n",
              "      <td>6.6</td>\n",
              "      <td>1016.3</td>\n",
              "      <td>76.0</td>\n",
              "      <td>0.8</td>\n",
              "      <td>0.4</td>\n",
              "      <td>3.5</td>\n",
              "      <td>276.908333</td>\n",
              "    </tr>\n",
              "    <tr>\n",
              "      <th>8</th>\n",
              "      <td>12.7</td>\n",
              "      <td>18.9</td>\n",
              "      <td>7.3</td>\n",
              "      <td>1021.2</td>\n",
              "      <td>76.0</td>\n",
              "      <td>1.8</td>\n",
              "      <td>6.1</td>\n",
              "      <td>16.5</td>\n",
              "      <td>108.000000</td>\n",
              "    </tr>\n",
              "    <tr>\n",
              "      <th>9</th>\n",
              "      <td>11.9</td>\n",
              "      <td>18.9</td>\n",
              "      <td>6.3</td>\n",
              "      <td>1020.1</td>\n",
              "      <td>76.0</td>\n",
              "      <td>1.1</td>\n",
              "      <td>8.3</td>\n",
              "      <td>20.6</td>\n",
              "      <td>107.625000</td>\n",
              "    </tr>\n",
              "  </tbody>\n",
              "</table>\n",
              "</div>"
            ],
            "text/plain": [
              "      T    TM    Tm     SLP     H   VV    V    VM      PM 2.5\n",
              "0   7.4   9.8   4.8  1017.6  93.0  0.5  4.3   9.4  219.720833\n",
              "1   7.8  12.7   4.4  1018.5  87.0  0.6  4.4  11.1  182.187500\n",
              "2   6.7  13.4   2.4  1019.4  82.0  0.6  4.8  11.1  154.037500\n",
              "3   8.6  15.5   3.3  1018.7  72.0  0.8  8.1  20.6  223.208333\n",
              "4  12.4  20.9   4.4  1017.3  61.0  1.3  8.7  22.2  200.645833\n",
              "5  16.0  25.2  10.0  1013.2  79.0  0.6  4.8  11.1  285.225000\n",
              "6  13.4  21.0   9.2  1015.1  87.0  0.5  1.5   7.6  236.825000\n",
              "7  14.3  22.6   6.6  1016.3  76.0  0.8  0.4   3.5  276.908333\n",
              "8  12.7  18.9   7.3  1021.2  76.0  1.8  6.1  16.5  108.000000\n",
              "9  11.9  18.9   6.3  1020.1  76.0  1.1  8.3  20.6  107.625000"
            ]
          },
          "metadata": {
            "tags": []
          },
          "execution_count": 4
        }
      ]
    },
    {
      "cell_type": "code",
      "metadata": {
        "id": "wA68RNUNuk9v"
      },
      "source": [
        "X= df.iloc[:,:-1]\r\n",
        "y= df.iloc[:,:-1]"
      ],
      "execution_count": 8,
      "outputs": []
    },
    {
      "cell_type": "code",
      "metadata": {
        "id": "AhgxoqwRwzep"
      },
      "source": [
        "def build_model(hp):\r\n",
        "    model = keras.Sequential()\r\n",
        "    for i in range(hp.Int('num_layers', 2, 20)):\r\n",
        "        model.add(layers.Dense(units=hp.Int('units_' + str(i),\r\n",
        "                                            min_value=32,\r\n",
        "                                            max_value=512,\r\n",
        "                                            step=32),\r\n",
        "                               activation='relu'))\r\n",
        "    model.add(layers.Dense(1, activation='linear'))\r\n",
        "    model.compile(\r\n",
        "        optimizer=keras.optimizers.Adam(\r\n",
        "            hp.Choice('learning_rate', [1e-2, 1e-3, 1e-4])),\r\n",
        "        loss='mean_absolute_error',\r\n",
        "        metrics=['mean_absolute_error'])\r\n",
        "    return model"
      ],
      "execution_count": 9,
      "outputs": []
    },
    {
      "cell_type": "code",
      "metadata": {
        "id": "ApdUPaptzLE9"
      },
      "source": [
        "tuner = RandomSearch(\r\n",
        "    build_model,\r\n",
        "    objective='val_mean_absolute_error',\r\n",
        "    max_trials=5,\r\n",
        "    executions_per_trial=3,\r\n",
        "    directory='project',\r\n",
        "    project_name='Air Quality Index')"
      ],
      "execution_count": 10,
      "outputs": []
    },
    {
      "cell_type": "code",
      "metadata": {
        "colab": {
          "base_uri": "https://localhost:8080/"
        },
        "id": "jJdKzcxezmXB",
        "outputId": "4fb8ef87-d706-4c43-cdda-6e1c48c6f60e"
      },
      "source": [
        "tuner.search_space_summary()\r\n"
      ],
      "execution_count": 11,
      "outputs": [
        {
          "output_type": "stream",
          "text": [
            "Search space summary\n",
            "Default search space size: 4\n",
            "num_layers (Int)\n",
            "{'default': None, 'conditions': [], 'min_value': 2, 'max_value': 20, 'step': 1, 'sampling': None}\n",
            "units_0 (Int)\n",
            "{'default': None, 'conditions': [], 'min_value': 32, 'max_value': 512, 'step': 32, 'sampling': None}\n",
            "units_1 (Int)\n",
            "{'default': None, 'conditions': [], 'min_value': 32, 'max_value': 512, 'step': 32, 'sampling': None}\n",
            "learning_rate (Choice)\n",
            "{'default': 0.01, 'conditions': [], 'values': [0.01, 0.001, 0.0001], 'ordered': True}\n"
          ],
          "name": "stdout"
        }
      ]
    },
    {
      "cell_type": "code",
      "metadata": {
        "id": "kwua83NW0X0q"
      },
      "source": [
        "from sklearn.model_selection import train_test_split\r\n",
        "X_train, X_test, y_train, y_test = train_test_split(X, y, test_size=0.3, random_state=0)"
      ],
      "execution_count": 12,
      "outputs": []
    },
    {
      "cell_type": "code",
      "metadata": {
        "colab": {
          "base_uri": "https://localhost:8080/"
        },
        "id": "mlDqRrcl0p10",
        "outputId": "eb09d4e0-11e6-4d75-b4e2-6fbdb915e238"
      },
      "source": [
        "\r\n",
        "tuner.search(X_train, y_train,\r\n",
        "             epochs=5,\r\n",
        "             validation_data=(X_test, y_test))"
      ],
      "execution_count": 13,
      "outputs": [
        {
          "output_type": "stream",
          "text": [
            "Trial 5 Complete [00h 00m 10s]\n",
            "val_mean_absolute_error: 136.26375834147134\n",
            "\n",
            "Best val_mean_absolute_error So Far: 135.88160196940103\n",
            "Total elapsed time: 00h 00m 45s\n",
            "INFO:tensorflow:Oracle triggered exit\n"
          ],
          "name": "stdout"
        }
      ]
    },
    {
      "cell_type": "code",
      "metadata": {
        "colab": {
          "base_uri": "https://localhost:8080/"
        },
        "id": "4pHeLEGe0wD5",
        "outputId": "6ab0a6a7-d35c-4716-9ee7-03751e9ad54d"
      },
      "source": [
        "tuner.results_summary()"
      ],
      "execution_count": 14,
      "outputs": [
        {
          "output_type": "stream",
          "text": [
            "Results summary\n",
            "Results in project/Air Quality Index\n",
            "Showing 10 best trials\n",
            "Objective(name='val_mean_absolute_error', direction='min')\n",
            "Trial summary\n",
            "Hyperparameters:\n",
            "num_layers: 11\n",
            "units_0: 160\n",
            "units_1: 96\n",
            "learning_rate: 0.01\n",
            "units_2: 32\n",
            "units_3: 32\n",
            "units_4: 32\n",
            "units_5: 32\n",
            "units_6: 32\n",
            "units_7: 32\n",
            "units_8: 32\n",
            "units_9: 32\n",
            "units_10: 32\n",
            "Score: 135.88160196940103\n",
            "Trial summary\n",
            "Hyperparameters:\n",
            "num_layers: 15\n",
            "units_0: 416\n",
            "units_1: 32\n",
            "learning_rate: 0.001\n",
            "units_2: 128\n",
            "units_3: 128\n",
            "units_4: 224\n",
            "units_5: 192\n",
            "units_6: 224\n",
            "units_7: 320\n",
            "units_8: 320\n",
            "units_9: 448\n",
            "units_10: 288\n",
            "units_11: 288\n",
            "units_12: 64\n",
            "units_13: 256\n",
            "units_14: 256\n",
            "units_15: 64\n",
            "units_16: 416\n",
            "units_17: 288\n",
            "units_18: 96\n",
            "Score: 136.13717651367188\n",
            "Trial summary\n",
            "Hyperparameters:\n",
            "num_layers: 17\n",
            "units_0: 384\n",
            "units_1: 128\n",
            "learning_rate: 0.001\n",
            "units_2: 384\n",
            "units_3: 32\n",
            "units_4: 192\n",
            "units_5: 448\n",
            "units_6: 480\n",
            "units_7: 160\n",
            "units_8: 256\n",
            "units_9: 160\n",
            "units_10: 192\n",
            "units_11: 96\n",
            "units_12: 352\n",
            "units_13: 288\n",
            "units_14: 352\n",
            "units_15: 416\n",
            "units_16: 64\n",
            "units_17: 288\n",
            "units_18: 32\n",
            "Score: 136.26375834147134\n",
            "Trial summary\n",
            "Hyperparameters:\n",
            "num_layers: 19\n",
            "units_0: 416\n",
            "units_1: 224\n",
            "learning_rate: 0.01\n",
            "units_2: 128\n",
            "units_3: 480\n",
            "units_4: 128\n",
            "units_5: 384\n",
            "units_6: 384\n",
            "units_7: 480\n",
            "units_8: 96\n",
            "units_9: 384\n",
            "units_10: 288\n",
            "units_11: 64\n",
            "units_12: 160\n",
            "units_13: 384\n",
            "units_14: 448\n",
            "units_15: 128\n",
            "units_16: 128\n",
            "units_17: 32\n",
            "units_18: 32\n",
            "Score: 136.35407002766928\n",
            "Trial summary\n",
            "Hyperparameters:\n",
            "num_layers: 17\n",
            "units_0: 32\n",
            "units_1: 96\n",
            "learning_rate: 0.0001\n",
            "units_2: 160\n",
            "units_3: 384\n",
            "units_4: 384\n",
            "units_5: 64\n",
            "units_6: 352\n",
            "units_7: 192\n",
            "units_8: 512\n",
            "units_9: 128\n",
            "units_10: 256\n",
            "units_11: 32\n",
            "units_12: 32\n",
            "units_13: 32\n",
            "units_14: 32\n",
            "units_15: 32\n",
            "units_16: 32\n",
            "Score: 136.7069549560547\n"
          ],
          "name": "stdout"
        }
      ]
    },
    {
      "cell_type": "code",
      "metadata": {
        "id": "TZBQJySf1Wb-"
      },
      "source": [
        ""
      ],
      "execution_count": null,
      "outputs": []
    }
  ]
}