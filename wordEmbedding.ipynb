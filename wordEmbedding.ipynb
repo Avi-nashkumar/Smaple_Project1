{
  "nbformat": 4,
  "nbformat_minor": 0,
  "metadata": {
    "colab": {
      "name": "wordEmbedding.ipynb",
      "provenance": [],
      "authorship_tag": "ABX9TyOOVf4r/zf+RivoASXCk2Z5",
      "include_colab_link": true
    },
    "kernelspec": {
      "name": "python3",
      "display_name": "Python 3"
    }
  },
  "cells": [
    {
      "cell_type": "markdown",
      "metadata": {
        "id": "view-in-github",
        "colab_type": "text"
      },
      "source": [
        "<a href=\"https://colab.research.google.com/github/Avi-nashkumar/Smaple_Project1/blob/master/wordEmbedding.ipynb\" target=\"_parent\"><img src=\"https://colab.research.google.com/assets/colab-badge.svg\" alt=\"Open In Colab\"/></a>"
      ]
    },
    {
      "cell_type": "code",
      "metadata": {
        "id": "bgJ-lcSjhoPc"
      },
      "source": [
        "from tensorflow.keras.preprocessing.text import one_hot"
      ],
      "execution_count": 5,
      "outputs": []
    },
    {
      "cell_type": "code",
      "metadata": {
        "id": "tYuGScCrimcd"
      },
      "source": [
        "sent= ['A glass of milk', 'the glass of juice',' I am a good boy','she is a good girl']"
      ],
      "execution_count": 7,
      "outputs": []
    },
    {
      "cell_type": "code",
      "metadata": {
        "colab": {
          "base_uri": "https://localhost:8080/"
        },
        "id": "gH94jtpPi9VE",
        "outputId": "bafd226b-cbe3-49cd-b8ca-be6e617b15dd"
      },
      "source": [
        "sent"
      ],
      "execution_count": 8,
      "outputs": [
        {
          "output_type": "execute_result",
          "data": {
            "text/plain": [
              "['A glass of milk',\n",
              " 'the glass of juice',\n",
              " ' I am a good boy',\n",
              " 'she is a good girl']"
            ]
          },
          "metadata": {
            "tags": []
          },
          "execution_count": 8
        }
      ]
    },
    {
      "cell_type": "code",
      "metadata": {
        "id": "V4FUNkNwjaxm"
      },
      "source": [
        "voc_size= 10000"
      ],
      "execution_count": 9,
      "outputs": []
    },
    {
      "cell_type": "markdown",
      "metadata": {
        "id": "utTB8X2IrLjx"
      },
      "source": [
        "#One Hot Representation"
      ]
    },
    {
      "cell_type": "code",
      "metadata": {
        "colab": {
          "base_uri": "https://localhost:8080/"
        },
        "id": "0vdYoXuMjl9C",
        "outputId": "74670f6c-19f3-45eb-99ff-73d2c89e43d2"
      },
      "source": [
        "one_hot_rep = [one_hot(words,voc_size) for words in sent]\r\n",
        "print(one_hot_rep)"
      ],
      "execution_count": 10,
      "outputs": [
        {
          "output_type": "stream",
          "text": [
            "[[5714, 6633, 7709, 674], [7378, 6633, 7709, 4841], [2388, 4866, 5714, 7041, 1818], [970, 1174, 5714, 7041, 7928]]\n"
          ],
          "name": "stdout"
        }
      ]
    },
    {
      "cell_type": "markdown",
      "metadata": {
        "id": "KadxNRFrrP1z"
      },
      "source": [
        "#Word Embedding"
      ]
    },
    {
      "cell_type": "code",
      "metadata": {
        "id": "DejIc2S3qnaS"
      },
      "source": [
        "from tensorflow.keras.layers import Embedding\r\n",
        "from tensorflow.keras.preprocessing.sequence import pad_sequences\r\n",
        "from tensorflow.keras.models import Sequential"
      ],
      "execution_count": 15,
      "outputs": []
    },
    {
      "cell_type": "code",
      "metadata": {
        "id": "hs1uW6Abr96y"
      },
      "source": [
        "import numpy as np"
      ],
      "execution_count": 16,
      "outputs": []
    },
    {
      "cell_type": "code",
      "metadata": {
        "id": "wMT7unYdsBY0"
      },
      "source": [
        "sent_length=8\r\n",
        "embedded_docs= pad_sequences(one_hot_rep,padding='pre',maxlen=sent_length)"
      ],
      "execution_count": 19,
      "outputs": []
    },
    {
      "cell_type": "code",
      "metadata": {
        "colab": {
          "base_uri": "https://localhost:8080/"
        },
        "id": "0CSyJSNLvanx",
        "outputId": "dc150e0c-9537-46bc-d063-3b9e0345df76"
      },
      "source": [
        "embedded_docs"
      ],
      "execution_count": 20,
      "outputs": [
        {
          "output_type": "execute_result",
          "data": {
            "text/plain": [
              "array([[   0,    0,    0,    0, 5714, 6633, 7709,  674],\n",
              "       [   0,    0,    0,    0, 7378, 6633, 7709, 4841],\n",
              "       [   0,    0,    0, 2388, 4866, 5714, 7041, 1818],\n",
              "       [   0,    0,    0,  970, 1174, 5714, 7041, 7928]], dtype=int32)"
            ]
          },
          "metadata": {
            "tags": []
          },
          "execution_count": 20
        }
      ]
    },
    {
      "cell_type": "code",
      "metadata": {
        "id": "_0PBMdmcv3mx"
      },
      "source": [
        "dim=15"
      ],
      "execution_count": 21,
      "outputs": []
    },
    {
      "cell_type": "code",
      "metadata": {
        "id": "xtLQeXfZwK-T"
      },
      "source": [
        "model= Sequential()\r\n",
        "model.add(Embedding(voc_size,10,input_length=sent_length))\r\n",
        "model.compile('adam','mse')"
      ],
      "execution_count": 24,
      "outputs": []
    },
    {
      "cell_type": "code",
      "metadata": {
        "colab": {
          "base_uri": "https://localhost:8080/"
        },
        "id": "r2FofsT6wi28",
        "outputId": "ef61beb8-232c-4aea-deac-147a7e3d2589"
      },
      "source": [
        "model.summary()"
      ],
      "execution_count": 25,
      "outputs": [
        {
          "output_type": "stream",
          "text": [
            "Model: \"sequential_1\"\n",
            "_________________________________________________________________\n",
            "Layer (type)                 Output Shape              Param #   \n",
            "=================================================================\n",
            "embedding_1 (Embedding)      (None, 8, 10)             100000    \n",
            "=================================================================\n",
            "Total params: 100,000\n",
            "Trainable params: 100,000\n",
            "Non-trainable params: 0\n",
            "_________________________________________________________________\n"
          ],
          "name": "stdout"
        }
      ]
    },
    {
      "cell_type": "code",
      "metadata": {
        "colab": {
          "base_uri": "https://localhost:8080/"
        },
        "id": "4E_91HptwxPE",
        "outputId": "9fb7938e-d12a-42e1-c8ca-3efa422205a5"
      },
      "source": [
        "print(model.predict(embedded_docs))"
      ],
      "execution_count": 26,
      "outputs": [
        {
          "output_type": "stream",
          "text": [
            "[[[ 0.02405629  0.04645501  0.02037999  0.0077933   0.03556355\n",
            "    0.0184931  -0.04831693 -0.00125603  0.03075867 -0.00088795]\n",
            "  [ 0.02405629  0.04645501  0.02037999  0.0077933   0.03556355\n",
            "    0.0184931  -0.04831693 -0.00125603  0.03075867 -0.00088795]\n",
            "  [ 0.02405629  0.04645501  0.02037999  0.0077933   0.03556355\n",
            "    0.0184931  -0.04831693 -0.00125603  0.03075867 -0.00088795]\n",
            "  [ 0.02405629  0.04645501  0.02037999  0.0077933   0.03556355\n",
            "    0.0184931  -0.04831693 -0.00125603  0.03075867 -0.00088795]\n",
            "  [ 0.04366671  0.04252454  0.01143565  0.02371271 -0.0323772\n",
            "    0.0094944  -0.02472457  0.01812793 -0.00403125 -0.01383144]\n",
            "  [-0.01454587 -0.00872708 -0.02066999 -0.0202861   0.00291703\n",
            "   -0.01178489  0.03029312  0.01017493 -0.02927366  0.00862462]\n",
            "  [ 0.03875803 -0.00481262  0.03971383 -0.0465232  -0.00302935\n",
            "    0.04923086  0.03409443 -0.02269533 -0.04368971  0.03385398]\n",
            "  [-0.02219278  0.03272512 -0.0274971  -0.00930544  0.03522414\n",
            "   -0.03897303 -0.01784138 -0.0490016   0.02867858  0.00232635]]\n",
            "\n",
            " [[ 0.02405629  0.04645501  0.02037999  0.0077933   0.03556355\n",
            "    0.0184931  -0.04831693 -0.00125603  0.03075867 -0.00088795]\n",
            "  [ 0.02405629  0.04645501  0.02037999  0.0077933   0.03556355\n",
            "    0.0184931  -0.04831693 -0.00125603  0.03075867 -0.00088795]\n",
            "  [ 0.02405629  0.04645501  0.02037999  0.0077933   0.03556355\n",
            "    0.0184931  -0.04831693 -0.00125603  0.03075867 -0.00088795]\n",
            "  [ 0.02405629  0.04645501  0.02037999  0.0077933   0.03556355\n",
            "    0.0184931  -0.04831693 -0.00125603  0.03075867 -0.00088795]\n",
            "  [ 0.01608672  0.00802269  0.04908712  0.01740206  0.00408107\n",
            "   -0.01829672  0.02316291  0.04678572 -0.04602049 -0.0081951 ]\n",
            "  [-0.01454587 -0.00872708 -0.02066999 -0.0202861   0.00291703\n",
            "   -0.01178489  0.03029312  0.01017493 -0.02927366  0.00862462]\n",
            "  [ 0.03875803 -0.00481262  0.03971383 -0.0465232  -0.00302935\n",
            "    0.04923086  0.03409443 -0.02269533 -0.04368971  0.03385398]\n",
            "  [ 0.03915106  0.01120235  0.04663404 -0.04371369 -0.00268402\n",
            "   -0.03114847 -0.04272432  0.0197275  -0.00456066 -0.04368902]]\n",
            "\n",
            " [[ 0.02405629  0.04645501  0.02037999  0.0077933   0.03556355\n",
            "    0.0184931  -0.04831693 -0.00125603  0.03075867 -0.00088795]\n",
            "  [ 0.02405629  0.04645501  0.02037999  0.0077933   0.03556355\n",
            "    0.0184931  -0.04831693 -0.00125603  0.03075867 -0.00088795]\n",
            "  [ 0.02405629  0.04645501  0.02037999  0.0077933   0.03556355\n",
            "    0.0184931  -0.04831693 -0.00125603  0.03075867 -0.00088795]\n",
            "  [-0.04598648 -0.04277305 -0.02045199  0.03965387 -0.02668973\n",
            "   -0.00448916 -0.04393802 -0.04407697 -0.02763234 -0.02319681]\n",
            "  [-0.03364291 -0.04520067 -0.037893    0.02079706  0.04616209\n",
            "   -0.0302544   0.0208583  -0.01621362  0.04339615 -0.04419447]\n",
            "  [ 0.04366671  0.04252454  0.01143565  0.02371271 -0.0323772\n",
            "    0.0094944  -0.02472457  0.01812793 -0.00403125 -0.01383144]\n",
            "  [ 0.04797142  0.01748571 -0.02818632 -0.01555065 -0.0453771\n",
            "    0.01150262 -0.02080422 -0.01470554 -0.03345495 -0.02852093]\n",
            "  [-0.01061122 -0.0265504  -0.02475591 -0.00737939 -0.03466431\n",
            "    0.04575725 -0.02578042  0.03813105 -0.03223025  0.00370519]]\n",
            "\n",
            " [[ 0.02405629  0.04645501  0.02037999  0.0077933   0.03556355\n",
            "    0.0184931  -0.04831693 -0.00125603  0.03075867 -0.00088795]\n",
            "  [ 0.02405629  0.04645501  0.02037999  0.0077933   0.03556355\n",
            "    0.0184931  -0.04831693 -0.00125603  0.03075867 -0.00088795]\n",
            "  [ 0.02405629  0.04645501  0.02037999  0.0077933   0.03556355\n",
            "    0.0184931  -0.04831693 -0.00125603  0.03075867 -0.00088795]\n",
            "  [ 0.02390258 -0.01884258  0.0043872   0.02912787 -0.02874622\n",
            "   -0.04225689 -0.03604819  0.02350244 -0.04038153  0.01239774]\n",
            "  [-0.04952807  0.0241869  -0.01254102 -0.011088    0.04711998\n",
            "    0.04364545 -0.00524478 -0.04924799 -0.00739248  0.01738212]\n",
            "  [ 0.04366671  0.04252454  0.01143565  0.02371271 -0.0323772\n",
            "    0.0094944  -0.02472457  0.01812793 -0.00403125 -0.01383144]\n",
            "  [ 0.04797142  0.01748571 -0.02818632 -0.01555065 -0.0453771\n",
            "    0.01150262 -0.02080422 -0.01470554 -0.03345495 -0.02852093]\n",
            "  [-0.00165653 -0.03306564  0.04504109  0.00936885 -0.00203647\n",
            "    0.02059102  0.00243971  0.00063742 -0.04929942  0.0416148 ]]]\n"
          ],
          "name": "stdout"
        }
      ]
    },
    {
      "cell_type": "code",
      "metadata": {
        "colab": {
          "base_uri": "https://localhost:8080/"
        },
        "id": "dTADRVxUxDqs",
        "outputId": "51093bd5-b0cf-4aee-e314-566244fab836"
      },
      "source": [
        "embedded_docs[0]"
      ],
      "execution_count": 27,
      "outputs": [
        {
          "output_type": "execute_result",
          "data": {
            "text/plain": [
              "array([   0,    0,    0,    0, 5714, 6633, 7709,  674], dtype=int32)"
            ]
          },
          "metadata": {
            "tags": []
          },
          "execution_count": 27
        }
      ]
    },
    {
      "cell_type": "code",
      "metadata": {
        "colab": {
          "base_uri": "https://localhost:8080/"
        },
        "id": "C7VWJBl-xmpq",
        "outputId": "71438f66-90fb-45a0-d401-4446e7632c8f"
      },
      "source": [
        "print(model.predict(embedded_docs[0]))"
      ],
      "execution_count": 28,
      "outputs": [
        {
          "output_type": "stream",
          "text": [
            "WARNING:tensorflow:Model was constructed with shape (None, 8) for input KerasTensor(type_spec=TensorSpec(shape=(None, 8), dtype=tf.float32, name='embedding_1_input'), name='embedding_1_input', description=\"created by layer 'embedding_1_input'\"), but it was called on an input with incompatible shape (None, 1).\n",
            "[[[ 0.02405629  0.04645501  0.02037999  0.0077933   0.03556355\n",
            "    0.0184931  -0.04831693 -0.00125603  0.03075867 -0.00088795]]\n",
            "\n",
            " [[ 0.02405629  0.04645501  0.02037999  0.0077933   0.03556355\n",
            "    0.0184931  -0.04831693 -0.00125603  0.03075867 -0.00088795]]\n",
            "\n",
            " [[ 0.02405629  0.04645501  0.02037999  0.0077933   0.03556355\n",
            "    0.0184931  -0.04831693 -0.00125603  0.03075867 -0.00088795]]\n",
            "\n",
            " [[ 0.02405629  0.04645501  0.02037999  0.0077933   0.03556355\n",
            "    0.0184931  -0.04831693 -0.00125603  0.03075867 -0.00088795]]\n",
            "\n",
            " [[ 0.04366671  0.04252454  0.01143565  0.02371271 -0.0323772\n",
            "    0.0094944  -0.02472457  0.01812793 -0.00403125 -0.01383144]]\n",
            "\n",
            " [[-0.01454587 -0.00872708 -0.02066999 -0.0202861   0.00291703\n",
            "   -0.01178489  0.03029312  0.01017493 -0.02927366  0.00862462]]\n",
            "\n",
            " [[ 0.03875803 -0.00481262  0.03971383 -0.0465232  -0.00302935\n",
            "    0.04923086  0.03409443 -0.02269533 -0.04368971  0.03385398]]\n",
            "\n",
            " [[-0.02219278  0.03272512 -0.0274971  -0.00930544  0.03522414\n",
            "   -0.03897303 -0.01784138 -0.0490016   0.02867858  0.00232635]]]\n"
          ],
          "name": "stdout"
        }
      ]
    },
    {
      "cell_type": "code",
      "metadata": {
        "id": "yDWBOLq7x614"
      },
      "source": [
        ""
      ],
      "execution_count": null,
      "outputs": []
    }
  ]
}